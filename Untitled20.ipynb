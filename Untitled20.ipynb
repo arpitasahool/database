{
 "cells": [
  {
   "cell_type": "code",
   "execution_count": 9,
   "metadata": {},
   "outputs": [
    {
     "name": "stdout",
     "output_type": "stream",
     "text": [
      "DONE!!\n"
     ]
    }
   ],
   "source": [
    "#Que1--> Write a python script to create a databse of students named Students.\n",
    "import sqlite3\n",
    "try:\n",
    "    con=sqlite3.connect(\"student1.db\")\n",
    "    cursor=con.cursor()\n",
    "    query = \"create table student(name varchar(20),rollno int,marks int)\"\n",
    "    cursor.execute(query)\n",
    "    query1 = \"insert into student(name,rollno,marks) values('arpita',1,100)\"\n",
    "    cursor.execute(query1)\n",
    "    query2 = \"insert into student(name,rollno,marks) values('asmita',2,90)\"\n",
    "    cursor.execute(query2)\n",
    "    query3 = \"insert into student(name,rollno,marks) values('bandita',3,80)\"\n",
    "    cursor.execute(query3)\n",
    "    data=cursor.fetchall()\n",
    "    for row in data:\n",
    "        print('name: {}, rollno: {}, marks: {}'.format(row[0], row[1], row[2]))\n",
    "    con.commit()\n",
    "    \n",
    "except sqlite3.DatabaseError as e:\n",
    "    if con:\n",
    "        con.rollback()\n",
    "        print('Problem occured: ', e)\n",
    "    \n",
    "finally:\n",
    "    if cursor:\n",
    "        cursor.close()\n",
    "    if con:\n",
    "        con.close()\n",
    "    print('DONE!!')\n",
    "    "
   ]
  },
  {
   "cell_type": "code",
   "execution_count": 18,
   "metadata": {},
   "outputs": [
    {
     "name": "stdout",
     "output_type": "stream",
     "text": [
      "NAME : dfghjk\n",
      "rollno : 1\n",
      "MARKS : 456\n",
      "NAME : ghjkl\n",
      "rollno : 2\n",
      "MARKS : 6789\n",
      "[('dfghjk', 1, 456), ('ghjkl', 2, 6789)]\n",
      "\n"
     ]
    }
   ],
   "source": [
    "#Que2:->Take students name and marks(between 0-100)\n",
    "#as input from user 10 times using loops.\n",
    "lisst = []\n",
    "for i in range(1,3):\n",
    "    lisst.append((input(\"NAME : \"), int(input(\"rollno : \")), int(input(\"MARKS : \"))))\n",
    "print(lisst)\n",
    "print()"
   ]
  },
  {
   "cell_type": "code",
   "execution_count": 19,
   "metadata": {},
   "outputs": [
    {
     "name": "stdout",
     "output_type": "stream",
     "text": [
      "query commited\n",
      "NAME : asd , rollno : 2, MARKS : 3\n",
      "NAME : chjk , rollno : 3, MARKS : 56\n",
      "NAME : asd , rollno : 2, MARKS : 3\n",
      "NAME : chjk , rollno : 3, MARKS : 56\n",
      "NAME : dfghjk , rollno : 1, MARKS : 456\n",
      "NAME : ghjkl , rollno : 2, MARKS : 6789\n",
      "Done!!\n",
      "\n"
     ]
    }
   ],
   "source": [
    "#Question3:->Add these values in two columns named \"Name\" and \"Marks\" with the appropriate data type.\n",
    "\n",
    "try:\n",
    "    con=sqlite3.connect('student.db')\n",
    "    cursor=con.cursor()\n",
    "    query=\"insert into student(name,rollno,marks) values(?,?,?)\"\n",
    "    cursor.executemany(query,lisst)\n",
    "    con.commit()\n",
    "    print(\"query commited\")\n",
    "    query1=\"select * from student\"\n",
    "    cursor.execute(query1)\n",
    "    data=cursor.fetchall()\n",
    "    for row in data:\n",
    "        print(\"NAME : {} , rollno : {}, MARKS : {}\" .format(row[0],row[1],row[2]))\n",
    "except sqlite3.DatabaseError as e:\n",
    "    if con:\n",
    "        con.rollback()\n",
    "        print(\"ERROR occured : \",e)\n",
    "finally:\n",
    "    if cursor:\n",
    "        cursor.close()\n",
    "    if con:\n",
    "        con.close()\n",
    "        print(\"Done!!\")\n",
    "print()\n"
   ]
  },
  {
   "cell_type": "code",
   "execution_count": 20,
   "metadata": {},
   "outputs": [
    {
     "name": "stdout",
     "output_type": "stream",
     "text": [
      "query commited\n",
      "NAME : dfghjk , rollno : 1, MARKS : 456\n",
      "NAME : ghjkl , rollno : 2, MARKS : 6789\n",
      "NAME : dfghjk , rollno : 1, MARKS : 456\n",
      "NAME : ghjkl , rollno : 2, MARKS : 6789\n",
      "Done!!\n",
      "\n"
     ]
    }
   ],
   "source": [
    "#Que.4:-> Print the names of all the students who scored more than 80 marks.\n",
    "try:\n",
    "    con=sqlite3.connect('student.db')\n",
    "    cursor=con.cursor()\n",
    "    query=\"insert into student(name,rollno,marks) values(?,?,?)\"\n",
    "    cursor.executemany(query,lisst)\n",
    "    con.commit()\n",
    "    print(\"query commited\")\n",
    "    query1=\"select * from student where marks>80\"\n",
    "    cursor.execute(query1)\n",
    "    data=cursor.fetchall()\n",
    "    for row in data:\n",
    "        print(\"NAME : {} , rollno : {}, MARKS : {}\" .format(row[0],row[1],row[2]))\n",
    "except sqlite3.DatabaseError as e:\n",
    "    if con:\n",
    "        con.rollback()\n",
    "        print(\"ERROR occured : \",e)\n",
    "finally:\n",
    "    if cursor:\n",
    "        cursor.close()\n",
    "    if con:\n",
    "        con.close()\n",
    "        print(\"Done!!\")\n",
    "print()"
   ]
  },
  {
   "cell_type": "code",
   "execution_count": null,
   "metadata": {},
   "outputs": [],
   "source": []
  }
 ],
 "metadata": {
  "kernelspec": {
   "display_name": "Python 3",
   "language": "python",
   "name": "python3"
  },
  "language_info": {
   "codemirror_mode": {
    "name": "ipython",
    "version": 3
   },
   "file_extension": ".py",
   "mimetype": "text/x-python",
   "name": "python",
   "nbconvert_exporter": "python",
   "pygments_lexer": "ipython3",
   "version": "3.6.5"
  }
 },
 "nbformat": 4,
 "nbformat_minor": 2
}
